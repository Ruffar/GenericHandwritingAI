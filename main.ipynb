{
 "cells": [
  {
   "cell_type": "code",
   "execution_count": 3,
   "id": "c79a362d-cb69-408a-806e-277f055e1030",
   "metadata": {},
   "outputs": [
    {
     "name": "stdout",
     "output_type": "stream",
     "text": [
      "Downloading data from https://storage.googleapis.com/tensorflow/tf-keras-datasets/mnist.npz\n",
      "11490434/11490434 [==============================] - 3s 0us/step\n"
     ]
    }
   ],
   "source": [
    "import tensorflow.keras as tk\n",
    "import keras\n",
    "mnist = tk.datasets.mnist\n",
    "\n",
    "(x_train, y_train), (x_test, y_test) = mnist.load_data()"
   ]
  },
  {
   "cell_type": "code",
   "execution_count": 4,
   "id": "98f7d8b0-ea9b-4d07-8808-cb96204254f9",
   "metadata": {},
   "outputs": [
    {
     "data": {
      "image/png": "[encoded data removed]",
      "text/plain": [
       "<Figure size 432x288 with 1 Axes>"
      ]
     },
     "metadata": {
      "needs_background": "light"
     },
     "output_type": "display_data"
    },
    {
     "name": "stdout",
     "output_type": "stream",
     "text": [
      "5\n"
     ]
    }
   ],
   "source": [
    "import matplotlib.pyplot as plt\n",
    "plt.imshow(x_train[0])\n",
    "plt.show()\n",
    "\n",
    "print(y_train[0])"
   ]
  },
  {
   "cell_type": "code",
   "execution_count": 5,
   "id": "ffdcc612-05fe-4f7a-a41f-20121d1da3aa",
   "metadata": {},
   "outputs": [],
   "source": [
    "#reshape\n",
    "x_train = x_train.reshape(x_train.shape[0], 28, 28, 1)\n",
    "x_test = x_test.reshape(x_test.shape[0], 28, 28, 1)\n",
    "\n",
    "input_shape = (28, 28, 1)\n",
    "\n",
    "#normalize\n",
    "x_train = x_train.astype('float32')\n",
    "x_train /= 255\n",
    "\n",
    "x_test = x_test.astype('float32')\n",
    "x_test /= 255"
   ]
  },
  {
   "cell_type": "code",
   "execution_count": 6,
   "id": "b559f5ee-6cc8-4086-af86-56ba11390331",
   "metadata": {},
   "outputs": [
    {
     "name": "stdout",
     "output_type": "stream",
     "text": [
      "5\n",
      "[0. 0. 0. 0. 0. 1. 0. 0. 0. 0.]\n"
     ]
    }
   ],
   "source": [
    "print(y_train[0])\n",
    "\n",
    "y_train = keras.utils.to_categorical(y_train, 10)\n",
    "y_test = keras.utils.to_categorical(y_test, 10)\n",
    "\n",
    "print(y_train[0])"
   ]
  },
  {
   "cell_type": "code",
   "execution_count": 8,
   "id": "739d7176-6ca5-4003-aa73-01ff83c295ba",
   "metadata": {},
   "outputs": [],
   "source": [
    "model = keras.models.Sequential()\n",
    "model.add(keras.layers.Conv2D(32, kernel_size=(3,3), activation='relu', input_shape=input_shape))\n",
    "model.add(keras.layers.Conv2D(64, kernel_size=(3,3), activation='relu'))\n",
    "model.add(keras.layers.MaxPooling2D(pool_size=(2,2)))\n",
    "model.add(keras.layers.Dropout(0.25))\n",
    "model.add(keras.layers.Flatten())\n",
    "model.add(keras.layers.Dense(128, activation='relu'))\n",
    "model.add(keras.layers.Dropout(0.5))\n",
    "model.add(keras.layers.Dense(10, activation='softmax'))"
   ]
  },
  {
   "cell_type": "code",
   "execution_count": 10,
   "id": "eab701e8-c2e5-4a51-ac61-75cabb2c840d",
   "metadata": {},
   "outputs": [
    {
     "name": "stdout",
     "output_type": "stream",
     "text": [
      "Epoch 1/20\n",
      "469/469 [==============================] - 92s 191ms/step - loss: 2.2872 - accuracy: 0.1398 - val_loss: 2.2490 - val_accuracy: 0.2586\n",
      "Epoch 2/20\n",
      "469/469 [==============================] - 80s 170ms/step - loss: 2.2264 - accuracy: 0.2527 - val_loss: 2.1796 - val_accuracy: 0.4631\n",
      "Epoch 3/20\n",
      "469/469 [==============================] - 80s 170ms/step - loss: 2.1563 - accuracy: 0.3550 - val_loss: 2.0903 - val_accuracy: 0.6033\n",
      "Epoch 4/20\n",
      "469/469 [==============================] - 80s 170ms/step - loss: 2.0596 - accuracy: 0.4486 - val_loss: 1.9675 - val_accuracy: 0.6715\n",
      "Epoch 5/20\n",
      "469/469 [==============================] - 80s 171ms/step - loss: 1.9320 - accuracy: 0.5156 - val_loss: 1.8047 - val_accuracy: 0.7103\n",
      "Epoch 6/20\n",
      "469/469 [==============================] - 80s 170ms/step - loss: 1.7753 - accuracy: 0.5634 - val_loss: 1.6085 - val_accuracy: 0.7357\n",
      "Epoch 7/20\n",
      "469/469 [==============================] - 82s 175ms/step - loss: 1.5964 - accuracy: 0.6026 - val_loss: 1.3970 - val_accuracy: 0.7587\n",
      "Epoch 8/20\n",
      "469/469 [==============================] - 100s 213ms/step - loss: 1.4237 - accuracy: 0.6313 - val_loss: 1.2006 - val_accuracy: 0.7823\n",
      "Epoch 9/20\n",
      "469/469 [==============================] - 89s 190ms/step - loss: 1.2756 - accuracy: 0.6565 - val_loss: 1.0382 - val_accuracy: 0.8010\n",
      "Epoch 10/20\n",
      "469/469 [==============================] - 84s 180ms/step - loss: 1.1523 - accuracy: 0.6782 - val_loss: 0.9095 - val_accuracy: 0.8134\n",
      "Epoch 11/20\n",
      "469/469 [==============================] - 86s 183ms/step - loss: 1.0580 - accuracy: 0.6983 - val_loss: 0.8122 - val_accuracy: 0.8256\n",
      "Epoch 12/20\n",
      "469/469 [==============================] - 82s 176ms/step - loss: 0.9853 - accuracy: 0.7127 - val_loss: 0.7372 - val_accuracy: 0.8343\n",
      "Epoch 13/20\n",
      "469/469 [==============================] - 83s 177ms/step - loss: 0.9214 - accuracy: 0.7288 - val_loss: 0.6782 - val_accuracy: 0.8409\n",
      "Epoch 14/20\n",
      "469/469 [==============================] - 83s 176ms/step - loss: 0.8718 - accuracy: 0.7386 - val_loss: 0.6313 - val_accuracy: 0.8479\n",
      "Epoch 15/20\n",
      "469/469 [==============================] - 83s 177ms/step - loss: 0.8307 - accuracy: 0.7522 - val_loss: 0.5930 - val_accuracy: 0.8539\n",
      "Epoch 16/20\n",
      "469/469 [==============================] - 83s 177ms/step - loss: 0.7956 - accuracy: 0.7586 - val_loss: 0.5616 - val_accuracy: 0.8592\n",
      "Epoch 17/20\n",
      "469/469 [==============================] - 84s 178ms/step - loss: 0.7625 - accuracy: 0.7696 - val_loss: 0.5346 - val_accuracy: 0.8640\n",
      "Epoch 18/20\n",
      "469/469 [==============================] - 82s 175ms/step - loss: 0.7338 - accuracy: 0.7776 - val_loss: 0.5116 - val_accuracy: 0.8673\n",
      "Epoch 19/20\n",
      "469/469 [==============================] - 86s 184ms/step - loss: 0.7096 - accuracy: 0.7859 - val_loss: 0.4913 - val_accuracy: 0.8704\n",
      "Epoch 20/20\n",
      "469/469 [==============================] - 84s 179ms/step - loss: 0.6931 - accuracy: 0.7890 - val_loss: 0.4740 - val_accuracy: 0.8742\n"
     ]
    },
    {
     "data": {
      "text/plain": [
       "<keras.callbacks.History at 0x190b569dac0>"
      ]
     },
     "execution_count": 10,
     "metadata": {},
     "output_type": "execute_result"
    }
   ],
   "source": [
    "model.compile(loss=tk.losses.categorical_crossentropy, optimizer=keras.optimizers.Adadelta(), metrics=['accuracy'])\n",
    "model.fit(x_train, y_train, batch_size=128, epochs=20, validation_data=(x_test, y_test))"
   ]
  },
  {
   "cell_type": "code",
   "execution_count": 11,
   "id": "16449aed-4e56-49a4-9c2d-55ee5e28b1f3",
   "metadata": {},
   "outputs": [
    {
     "name": "stdout",
     "output_type": "stream",
     "text": [
      "313/313 [==============================] - 7s 23ms/step - loss: 0.4740 - accuracy: 0.8742\n",
      "[0.47396206855773926, 0.8741999864578247]\n"
     ]
    }
   ],
   "source": [
    "print(model.evaluate(x_test, y_test))"
   ]
  },
  {
   "cell_type": "code",
   "execution_count": null,
   "id": "c7274a9a-0b3d-4eac-bc66-be76706eac8e",
   "metadata": {},
   "outputs": [],
   "source": []
  }
 ],
 "metadata": {
  "kernelspec": {
   "display_name": "Python 3 (ipykernel)",
   "language": "python",
   "name": "python3"
  },
  "language_info": {
   "codemirror_mode": {
    "name": "ipython",
    "version": 3
   },
   "file_extension": ".py",
   "mimetype": "text/x-python",
   "name": "python",
   "nbconvert_exporter": "python",
   "pygments_lexer": "ipython3",
   "version": "3.9.1"
  }
 },
 "nbformat": 4,
 "nbformat_minor": 5
}
